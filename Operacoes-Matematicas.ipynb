{
 "cells": [
  {
   "cell_type": "markdown",
   "id": "6a36f9c2",
   "metadata": {},
   "source": [
    "<h1>Média, Mediana e Moda</h1>"
   ]
  },
  {
   "cell_type": "markdown",
   "id": "327d70f0",
   "metadata": {},
   "source": [
    "<h2>Média vs Mediana</h2>"
   ]
  },
  {
   "cell_type": "code",
   "execution_count": 2,
   "id": "1a218585",
   "metadata": {},
   "outputs": [
    {
     "data": {
      "text/plain": [
       "1706.2056207807916"
      ]
     },
     "execution_count": 2,
     "metadata": {},
     "output_type": "execute_result"
    }
   ],
   "source": [
    "import numpy as np\n",
    "\n",
    "dados = np.random.normal(1700, 7000, 5850)\n",
    "np.mean(dados)"
   ]
  },
  {
   "cell_type": "code",
   "execution_count": 9,
   "id": "67df5c87",
   "metadata": {},
   "outputs": [
    {
     "data": {
      "image/png": "[encoded data removed]",
      "text/plain": [
       "<Figure size 640x480 with 1 Axes>"
      ]
     },
     "metadata": {},
     "output_type": "display_data"
    }
   ],
   "source": [
    "import matplotlib.pyplot as plt\n",
    "\n",
    "plt.hist(dados, 30)\n",
    "plt.show()"
   ]
  },
  {
   "cell_type": "code",
   "execution_count": 10,
   "id": "60efc7c5",
   "metadata": {},
   "outputs": [
    {
     "data": {
      "text/plain": [
       "1745.2861457856338"
      ]
     },
     "execution_count": 10,
     "metadata": {},
     "output_type": "execute_result"
    }
   ],
   "source": [
    "np.median(dados)"
   ]
  },
  {
   "cell_type": "markdown",
   "id": "6e4c4762",
   "metadata": {},
   "source": [
    "Se adicionarmos algum valor,a mediana não vai alterar muito, mas a média sim"
   ]
  },
  {
   "cell_type": "code",
   "execution_count": 14,
   "id": "d4bd6440",
   "metadata": {},
   "outputs": [],
   "source": [
    "dados = np.append(dados, [1000000000000])"
   ]
  },
  {
   "cell_type": "code",
   "execution_count": 15,
   "id": "0f6437cf",
   "metadata": {},
   "outputs": [
    {
     "data": {
      "text/plain": [
       "1745.8967905866866"
      ]
     },
     "execution_count": 15,
     "metadata": {},
     "output_type": "execute_result"
    }
   ],
   "source": [
    "np.median(dados)"
   ]
  },
  {
   "cell_type": "code",
   "execution_count": 17,
   "id": "f3c43d47",
   "metadata": {},
   "outputs": [
    {
     "data": {
      "text/plain": [
       "170912661.30625218"
      ]
     },
     "execution_count": 17,
     "metadata": {},
     "output_type": "execute_result"
    }
   ],
   "source": [
    "np.mean(dados) # valor antigo era 1706.2056207807916"
   ]
  },
  {
   "cell_type": "markdown",
   "id": "2a5ea7b4",
   "metadata": {},
   "source": [
    "<h2>Moda</h2>"
   ]
  },
  {
   "cell_type": "code",
   "execution_count": 19,
   "id": "d328cd69",
   "metadata": {},
   "outputs": [
    {
     "data": {
      "text/plain": [
       "array([85, 88, 59, 47, 31, 26, 31, 55, 31, 49, 36, 20, 88, 85, 57, 73, 21,\n",
       "       57, 71, 64, 19, 20, 80, 60, 70, 34, 60, 60, 22, 40, 84, 72, 86, 71,\n",
       "       72, 69, 22, 21, 87, 18, 85, 89, 46, 48, 22, 86, 43, 38, 60, 68, 52,\n",
       "       39, 81, 88, 44, 85, 85, 52, 52, 77, 55, 36, 69, 77, 79, 82, 20, 84,\n",
       "       82, 43, 70, 84, 71, 20, 70, 68, 29, 78, 20, 77, 45, 20, 70, 29, 24,\n",
       "       40, 27, 31, 73, 77, 18, 75, 39, 24, 24, 66, 28, 67, 19, 18, 62, 65,\n",
       "       45, 49, 41, 60, 44, 23, 69, 43, 67, 70, 76, 88, 59, 57, 36, 65, 35,\n",
       "       31, 73, 80, 49, 43, 37, 46, 24, 51, 85, 48, 83, 75, 29, 52, 26, 53,\n",
       "       68, 68, 63, 86, 58, 73, 71, 58, 69, 47, 51, 55, 39, 66, 50, 71, 80,\n",
       "       83, 77, 59, 40, 86, 36, 45, 51, 28, 51, 66, 40, 85, 83, 42, 23, 62,\n",
       "       88, 24, 50, 64, 50, 57, 81, 27, 66, 18, 52, 49, 41, 31, 56, 68, 30,\n",
       "       62, 55, 75, 41, 59, 56, 87, 57, 59, 36, 25, 25, 39, 79, 57, 62, 24,\n",
       "       79, 62, 20, 28, 78, 70, 61, 27, 21, 40, 85, 72, 25, 57, 82, 59, 33,\n",
       "       22, 46, 39, 69, 44, 78, 34, 20, 33, 22, 47, 18, 80, 88, 36, 85, 88,\n",
       "       20, 67, 75, 42, 29, 73, 18, 65, 60, 26, 64, 37, 71, 53, 38, 36, 51,\n",
       "       35, 27, 38, 32, 79, 87, 24, 88, 71, 54, 70, 61, 18, 47, 53, 86, 44,\n",
       "       65, 72, 84, 51, 18, 77, 23, 55, 22, 44, 48, 31, 62, 50, 43, 80, 57,\n",
       "       64, 56, 43, 80, 27, 18, 28, 72, 89, 54, 64, 55, 45, 38, 88, 73, 22,\n",
       "       46, 47, 60, 82, 55, 60, 48, 88, 73, 65, 43, 49, 18, 22, 36, 32, 88,\n",
       "       54, 45, 45, 77, 33, 67, 44, 65, 37, 75, 86, 61, 21, 48, 59, 18, 59,\n",
       "       26, 40, 68, 59, 52, 27, 57, 35, 58, 65, 25, 75, 55, 34, 75, 27, 42,\n",
       "       64, 56, 37, 75, 75, 69, 80, 76, 76, 24, 83, 63, 71, 77, 31, 28, 62,\n",
       "       87, 86, 88, 22, 44, 61, 75, 30, 79, 89, 33, 22, 80, 44, 37, 62, 82,\n",
       "       37, 35, 21, 42, 83, 26, 44, 59, 67, 75, 27, 67, 60, 75, 34, 64, 79,\n",
       "       23, 18, 27, 18, 33, 31, 23, 36, 73, 34, 29, 28, 63, 74, 32, 18, 19,\n",
       "       52, 80, 88, 18, 78, 51, 32, 45, 22, 50, 45, 24, 78, 72, 38, 61, 28,\n",
       "       87, 35, 40, 57, 66, 58, 18, 88, 85, 34, 25, 75, 88, 25, 32, 61, 80,\n",
       "       42, 76, 35, 77, 53, 24, 51, 18, 48, 61, 38, 34, 37, 55, 37, 37, 19,\n",
       "       44, 22, 57, 74, 88, 67, 79, 30, 47, 21, 37, 83, 42, 68, 50, 22, 70,\n",
       "       44, 23, 23, 63, 88, 57, 50])"
      ]
     },
     "execution_count": 19,
     "metadata": {},
     "output_type": "execute_result"
    }
   ],
   "source": [
    "idades = np.random.randint(18, high=90, size=500)\n",
    "\n",
    "idades"
   ]
  },
  {
   "cell_type": "code",
   "execution_count": 20,
   "id": "595f322d",
   "metadata": {},
   "outputs": [],
   "source": [
    "from scipy import stats"
   ]
  },
  {
   "cell_type": "code",
   "execution_count": 24,
   "id": "14db1e1f",
   "metadata": {},
   "outputs": [
    {
     "data": {
      "text/plain": [
       "ModeResult(mode=18, count=17)"
      ]
     },
     "execution_count": 24,
     "metadata": {},
     "output_type": "execute_result"
    }
   ],
   "source": [
    "stats.mode(idades)"
   ]
  }
 ],
 "metadata": {
  "kernelspec": {
   "display_name": "Python 3 (ipykernel)",
   "language": "python",
   "name": "python3"
  },
  "language_info": {
   "codemirror_mode": {
    "name": "ipython",
    "version": 3
   },
   "file_extension": ".py",
   "mimetype": "text/x-python",
   "name": "python",
   "nbconvert_exporter": "python",
   "pygments_lexer": "ipython3",
   "version": "3.12.3"
  }
 },
 "nbformat": 4,
 "nbformat_minor": 5
}
